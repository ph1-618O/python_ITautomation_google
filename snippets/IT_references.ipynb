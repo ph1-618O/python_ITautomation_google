{
 "cells": [
  {
   "cell_type": "markdown",
   "metadata": {},
   "source": [
    "Calculate the Golden Ratio\n",
    "$$\\frac{1 + \\sqrt 5}{2}$$"
   ]
  },
  {
   "cell_type": "code",
   "execution_count": 1,
   "metadata": {},
   "outputs": [
    {
     "name": "stdout",
     "output_type": "stream",
     "text": [
      "1.618033988749895\n"
     ]
    }
   ],
   "source": [
    "ratio = (1 + 5**(1/2))/2\n",
    "print(ratio)"
   ]
  },
  {
   "cell_type": "markdown",
   "metadata": {},
   "source": [
    "Calculate the possible passwords formed by user input() amounts "
   ]
  },
  {
   "cell_type": "code",
   "execution_count": 3,
   "metadata": {},
   "outputs": [],
   "source": [
    "#See Passwords.py\n",
    "#import passwords"
   ]
  },
  {
   "cell_type": "markdown",
   "metadata": {},
   "source": [
    "Most HDs are divided into sectors of 512 bytes ea. \n",
    "\n",
    "Using a disk size of 16 GB.\n",
    "\n",
    "1 GB is 1034<sup>3</sup> bytes, and 8bits/byte is 1034<sup>3</sup>X8\n",
    "    \n",
    "Calculate how many sectors are on the disk::"
   ]
  },
  {
   "cell_type": "code",
   "execution_count": 5,
   "metadata": {},
   "outputs": [
    {
     "name": "stdout",
     "output_type": "stream",
     "text": [
      "33554432\n"
     ]
    }
   ],
   "source": [
    "disk_size = 16*1024**3\n",
    "sector_size = 512\n",
    "sector_amount = disk_size/sector_size\n",
    "print(int(sector_amount))"
   ]
  },
  {
   "cell_type": "markdown",
   "metadata": {},
   "source": [
    "Is \"a dog\" smaller or larger than \"a mouse\"?\n",
    "\n",
    "Is 9999+8888 smaller or larger than 100*100?\n",
    "\n",
    "Choose the correct comparison operator::"
   ]
  },
  {
   "cell_type": "code",
   "execution_count": 8,
   "metadata": {},
   "outputs": [
    {
     "name": "stdout",
     "output_type": "stream",
     "text": [
      "A dog is bigger than a mouse: False\n",
      "9999+8888 is greater than 100*100: True\n"
     ]
    }
   ],
   "source": [
    "print(f'A dog is bigger than a mouse: {\"A dog\" > \"A mouse\"}')\n",
    "print(f'9999+8888 is greater than 100*100: {9999+8888 > 100*100}')"
   ]
  },
  {
   "cell_type": "markdown",
   "metadata": {},
   "source": [
    "If a filesystem has a block size of 4096 bytes, this means that a file comprised of only one byte will still use 4096 bytes of storage. A file made up of 4097 bytes will use 4096*2=8192 bytes of storage. Knowing this, can you fill in the gaps in the calculate_storage function below, which calculates the total number of bytes needed to store a file of a given size?"
   ]
  },
  {
   "cell_type": "code",
   "execution_count": 9,
   "metadata": {},
   "outputs": [
    {
     "name": "stdout",
     "output_type": "stream",
     "text": [
      "4096\n",
      "4096\n",
      "8192\n",
      "8192\n"
     ]
    }
   ],
   "source": [
    "def calculate_storage(filesize):\n",
    "    block_size = 4096\n",
    "    # Use floor division to calculate how many blocks are fully occupied\n",
    "    full_blocks = filesize // block_size\n",
    "    # Use the modulo operator to check whether there's any remainder\n",
    "    partial_block_remainder = filesize % block_size\n",
    "    # Depending on whether there's a remainder or not, return\n",
    "    # the total number of bytes required to allocate enough blocks\n",
    "    # to store your data.\n",
    "    if partial_block_remainder > 0:\n",
    "        return (full_blocks + 1) * block_size\n",
    "    return filesize\n",
    "\n",
    "print(calculate_storage(1))    # Should be 4096\n",
    "print(calculate_storage(4096)) # Should be 4096\n",
    "print(calculate_storage(4097)) # Should be 8192\n",
    "print(calculate_storage(6000)) # Should be 8192"
   ]
  },
  {
   "cell_type": "markdown",
   "metadata": {},
   "source": [
    "This function converts miles to kilometers (km).\n",
    "\n",
    "Complete the function to return the result of the conversion\n",
    "Call the function to convert the trip distance from miles to kilometers\n",
    "Fill in the blank to print the result of the conversion\n",
    "Calculate the round-trip in kilometers by doubling the result, and fill in the blank to print the result"
   ]
  },
  {
   "cell_type": "code",
   "execution_count": 10,
   "metadata": {},
   "outputs": [
    {
     "name": "stdout",
     "output_type": "stream",
     "text": [
      "The distance in kilometers is 88.0\n",
      "The round-trip in kilometers is 176.0\n"
     ]
    }
   ],
   "source": [
    "# 1) Complete the function to return the result of the conversion\n",
    "def convert_distance(miles):\n",
    "\tkm = miles * 1.6  # approximately 1.6 km in 1 mile\n",
    "\treturn km\n",
    "\n",
    "my_trip_miles = 55\n",
    "\n",
    "# 2) Convert my_trip_miles to kilometers by calling the function above\n",
    "my_trip_km = convert_distance(my_trip_miles)\n",
    "\n",
    "# 3) Fill in the blank to print the result of the conversion\n",
    "print(\"The distance in kilometers is \" + str(my_trip_km))\n",
    "\n",
    "# 4) Calculate the round-trip in kilometers by doubling the result,\n",
    "#    and fill in the blank to print the result\n",
    "print(\"The round-trip in kilometers is \" + str(2*my_trip_km))"
   ]
  },
  {
   "cell_type": "markdown",
   "metadata": {},
   "source": [
    "This function compares two numbers and returns them in increasing order.\n",
    "\n",
    "Fill in the blanks, so the print statement displays the result of the function call in order.\n",
    "Hint: if a function returns multiple values, don't forget to store these values in multiple variables"
   ]
  },
  {
   "cell_type": "code",
   "execution_count": 11,
   "metadata": {},
   "outputs": [
    {
     "name": "stdout",
     "output_type": "stream",
     "text": [
      "99 100\n"
     ]
    }
   ],
   "source": [
    "# This function compares two numbers and returns them\n",
    "# in increasing order.\n",
    "def order_numbers(number1, number2):\n",
    "\tif number2 > number1:\n",
    "\t\treturn number1, number2\n",
    "\telse:\n",
    "\t\treturn number2, number1\n",
    "\n",
    "# 1) Fill in the blanks so the print statement displays the result\n",
    "#    of the function call\n",
    "smaller, bigger = order_numbers(100, 99)\n",
    "print(smaller, bigger)"
   ]
  },
  {
   "cell_type": "markdown",
   "metadata": {},
   "source": [
    "Make the print_prime_factors function print all the prime factors of a number. A prime factor is a number that is prime and divides another without a remainder."
   ]
  },
  {
   "cell_type": "code",
   "execution_count": null,
   "metadata": {},
   "outputs": [],
   "source": [
    "def print_prime_factors(number):\n",
    "  # Start with two, which is the first prime\n",
    "  factor = 2\n",
    "  # Keep going until the factor is larger than the number\n",
    "  while factor <= number:\n",
    "    # Check if factor is a divisor of number\n",
    "    if number % factor == 0:\n",
    "      # If it is, print it and divide the original number\n",
    "      print(factor)\n",
    "      number = number / factor\n",
    "    else:\n",
    "      # If it's not, increment the factor by one\n",
    "      factor += 1\n",
    "  return \"Done\"\n",
    "\n",
    "print_prime_factors(100)\n",
    "# Should print 2,2,5,5"
   ]
  },
  {
   "cell_type": "markdown",
   "metadata": {},
   "source": [
    "Fix the code so that it can finish successfully for all numbers.\n",
    "\n",
    "Note: Try running your function with the number 0 as the input, and see what you get!"
   ]
  },
  {
   "cell_type": "code",
   "execution_count": null,
   "metadata": {},
   "outputs": [],
   "source": [
    "#Error infinite loop\n",
    "def is_power_of_two(n):\n",
    "  # Check if the number can be divided by two without a remainder\n",
    "  while n % 2 == 0:\n",
    "    n = n / 2\n",
    "  # If after dividing by two the number is 1, it's a power of two\n",
    "  if n == 1:\n",
    "    return True\n",
    "  return False\n",
    "  \n",
    "\n",
    "print(is_power_of_two(0)) # Should be False\n",
    "print(is_power_of_two(1)) # Should be True\n",
    "print(is_power_of_two(8)) # Should be True\n",
    "print(is_power_of_two(9)) # Should be False"
   ]
  },
  {
   "cell_type": "code",
   "execution_count": null,
   "metadata": {},
   "outputs": [],
   "source": [
    "#Answer:\n",
    "def is_power_of_two(n):\n",
    "  # Check if the number can be divided by two without a remainder\n",
    "  while n % 2 == 0:\n",
    "    if n == 0:\n",
    "      break\n",
    "    n = n / 2\n",
    "  # If after dividing by two the number is 1, it's a power of two\n",
    "  if n == 1:\n",
    "    return True\n",
    "  return False\n",
    "  \n",
    "\n",
    "print(is_power_of_two(0)) # Should be False\n",
    "print(is_power_of_two(1)) # Should be True\n",
    "print(is_power_of_two(8)) # Should be True\n",
    "print(is_power_of_two(9)) # Should be False"
   ]
  },
  {
   "cell_type": "markdown",
   "metadata": {},
   "source": [
    "Fill in the empty function so that it returns the sum of all the divisors of a number, without including it. A divisor is a number that divides into another without a remainder."
   ]
  },
  {
   "cell_type": "code",
   "execution_count": null,
   "metadata": {},
   "outputs": [],
   "source": [
    "#Question\n",
    "def sum_divisors(n):\n",
    "  sum = 0\n",
    "  # Return the sum of all divisors of n, not including n\n",
    "  return sum\n",
    "\n",
    "print(sum_divisors(0))\n",
    "# 0\n",
    "print(sum_divisors(3)) # Should sum of 1\n",
    "# 1\n",
    "print(sum_divisors(36)) # Should sum of 1+2+3+4+6+9+12+18\n",
    "# 55\n",
    "print(sum_divisors(102)) # Should be sum of 2+3+6+17+34+51\n",
    "# 114\n"
   ]
  },
  {
   "cell_type": "code",
   "execution_count": null,
   "metadata": {},
   "outputs": [],
   "source": [
    "#Answer\n",
    "def sum_divisors(n):\n",
    "  x = 1\n",
    "  i = 0\n",
    "  while n != 0 and x<n:\n",
    "    if n%x == 0:\n",
    "      i+=x\n",
    "    x+= 1\n",
    "  # Return the sum of all divisors of n, not including n\n",
    "  return i\n",
    "\n",
    "print(sum_divisors(0))\n",
    "# 0\n",
    "print(sum_divisors(3)) # Should sum of 1\n",
    "# 1\n",
    "print(sum_divisors(36)) # Should sum of 1+2+3+4+6+9+12+18\n",
    "# 55\n",
    "print(sum_divisors(102)) # Should be sum of 2+3+6+17+34+51\n",
    "# 114\n"
   ]
  },
  {
   "cell_type": "markdown",
   "metadata": {},
   "source": [
    "The multiplication_table function prints the results of a number passed to it multiplied by 1 through 5. An additional requirement is that the result is not to exceed 25, which is done with the break statement. Fill in the blanks to complete the function to satisfy these conditions."
   ]
  },
  {
   "cell_type": "code",
   "execution_count": null,
   "metadata": {},
   "outputs": [],
   "source": [
    "def multiplication_table(number):\n",
    "\t# Initialize the starting point of the multiplication table\n",
    "\tmultiplier = 1\n",
    "\t# Only want to loop through 5\n",
    "\twhile multiplier <= 5:\n",
    "\t\tresult = ___ \n",
    "\t\t# What is the additional condition to exit out of the loop?\n",
    "\t\tif ___ :\n",
    "\t\t\tbreak\n",
    "\t\tprint(str(number) + \"x\" + str(multiplier) + \"=\" + str(result))\n",
    "\t\t# Increment the variable for the loop\n",
    "\t\t___ += 1\n",
    "\n",
    "multiplication_table(3) \n",
    "# Should print: 3x1=3 3x2=6 3x3=9 3x4=12 3x5=15\n",
    "\n",
    "multiplication_table(5) \n",
    "# Should print: 5x1=5 5x2=10 5x3=15 5x4=20 5x5=25\n",
    "\n",
    "multiplication_table(8)\t\n",
    "# Should print: 8x1=8 8x2=16 8x3=24"
   ]
  },
  {
   "cell_type": "code",
   "execution_count": null,
   "metadata": {},
   "outputs": [],
   "source": [
    "#Answer\n",
    "def multiplication_table(number):\n",
    "\t# Initialize the starting point of the multiplication table\n",
    "\tmultiplier = 1\n",
    "\t# Only want to loop through 5\n",
    "\twhile multiplier <= 5:\n",
    "\t\tresult = number * multiplier \n",
    "\t\t# What is the additional condition to exit out of the loop?\n",
    "\t\tif result > 25 :\n",
    "\t\t\tbreak\n",
    "\t\tprint(str(number) + \"x\" + str(multiplier) + \"=\" + str(result))\n",
    "\t\t# Increment the variable for the loop\n",
    "\t\tmultiplier += 1\n",
    "\n",
    "multiplication_table(3) \n",
    "# Should print: 3x1=3 3x2=6 3x3=9 3x4=12 3x5=15\n",
    "\n",
    "multiplication_table(5) \n",
    "# Should print: 5x1=5 5x2=10 5x3=15 5x4=20 5x5=25\n",
    "\n",
    "multiplication_table(8)\t\n",
    "# Should print: 8x1=8 8x2=16 8x3=24"
   ]
  },
  {
   "cell_type": "markdown",
   "metadata": {},
   "source": [
    "Fill in the blanks to make the factorial function return the factorial of n. Then, print the first 10 factorials (from 0 to 9) with the corresponding number. Remember that the factorial of a number is defined as the product of an integer and all integers before it. For example, the factorial of five (5!) is equal to 1*2*3*4*5=120. Also recall that the factorial of zero (0!) is equal to 1."
   ]
  },
  {
   "cell_type": "code",
   "execution_count": null,
   "metadata": {},
   "outputs": [],
   "source": [
    "#Question\n",
    "def factorial(n):\n",
    "    result = 1\n",
    "    for x in range(1,___):\n",
    "        result = ___ * ___\n",
    "    return ___\n",
    "\n",
    "for n in range(___,___):\n",
    "    print(n, factorial(n+___))"
   ]
  },
  {
   "cell_type": "code",
   "execution_count": null,
   "metadata": {},
   "outputs": [],
   "source": [
    "#Answer\n",
    "def factorial(n):\n",
    "    result = 1\n",
    "    for x in range(1,n+1):\n",
    "        result = result * x\n",
    "    return result\n",
    "\n",
    "for n in range(1,10):\n",
    "    print(n, factorial(n))"
   ]
  },
  {
   "cell_type": "markdown",
   "metadata": {},
   "source": [
    "Write a script that prints the multiples of 7 between 0 and 100. Print one multiple per line and avoid printing any numbers that aren't multiples of 7. Remember that 0 is also a multiple of 7."
   ]
  },
  {
   "cell_type": "code",
   "execution_count": null,
   "metadata": {},
   "outputs": [],
   "source": [
    "for i in range(0,101):\n",
    "    if 7 * i <= 100:\n",
    "        print(f'{7*i}')\n",
    "    else:\n",
    "        break"
   ]
  },
  {
   "cell_type": "markdown",
   "metadata": {},
   "source": [
    "The retry function tries to execute an operation that might fail, it retries the operation for a number of attempts.  Currently the code will keep executing the function even if it succeeds. Fill in the blank so the code stops trying after the operation succeeded."
   ]
  },
  {
   "cell_type": "code",
   "execution_count": null,
   "metadata": {},
   "outputs": [],
   "source": [
    "def retry(operation, attempts):\n",
    "  for n in range(attempts):\n",
    "    if operation():\n",
    "      print(\"Attempt \" + str(n) + \" succeeded\")\n",
    "    ___\n",
    "    else:\n",
    "      print(\"Attempt \" + str(n) + \" failed\")\n",
    "\n",
    "retry(create_user, 3)\n",
    "retry(stop_service, 5)"
   ]
  },
  {
   "cell_type": "code",
   "execution_count": null,
   "metadata": {},
   "outputs": [],
   "source": [
    "def retry(operation, attempts):\n",
    "  for n in range(attempts):\n",
    "    if operation():\n",
    "      print(\"Attempt \" + str(n) + \" succeeded\")\n",
    "      break\n",
    "    else:\n",
    "      print(\"Attempt \" + str(n) + \" failed\")\n",
    "\n",
    "retry(create_user, 3)\n",
    "retry(stop_service, 5)"
   ]
  },
  {
   "cell_type": "markdown",
   "metadata": {},
   "source": [
    "Complete the function digits(n) that returns how many digits the number has. For example: 25 has 2 digits and 144 has 3 digits. Tip: you can figure out the digits of a number by dividing it by 10 once per digit until there are no digits left."
   ]
  },
  {
   "cell_type": "code",
   "execution_count": null,
   "metadata": {},
   "outputs": [],
   "source": [
    "#Question\n",
    "def digits(n):\n",
    "\tcount = 0\n",
    "\tif n == 0:\n",
    "\t  ___\n",
    "\twhile (___):\n",
    "\t\tcount += 1\n",
    "\t\t___\n",
    "\treturn count\n",
    "\t\n",
    "print(digits(25))   # Should print 2\n",
    "print(digits(144))  # Should print 3\n",
    "print(digits(1000)) # Should print 4\n",
    "print(digits(0))    # Should print 1"
   ]
  },
  {
   "cell_type": "code",
   "execution_count": null,
   "metadata": {},
   "outputs": [],
   "source": [
    "#Answer\n",
    "def digits(n):\n",
    "\tcount = 0\n",
    "\tif n == 0:\n",
    "\t  return 1\n",
    "\twhile (n>0):\n",
    "\t\tcount += 1\n",
    "\t\tn = n//10\n",
    "\treturn count\n",
    "\t\n",
    "print(digits(25))   # Should print 2\n",
    "print(digits(144))  # Should print 3\n",
    "print(digits(1000)) # Should print 4\n",
    "print(digits(0))    # Should print 1"
   ]
  },
  {
   "cell_type": "markdown",
   "metadata": {},
   "source": [
    "This function prints out a multiplication table (where each number is the result of multiplying the first number of its row by the number at the top of its column). Fill in the blanks so that calling multiplication_table(1, 3) will print out:\n",
    "\n",
    "1 2 3 \n",
    "\n",
    "2 4 6 \n",
    "\n",
    "3 6 9"
   ]
  },
  {
   "cell_type": "code",
   "execution_count": null,
   "metadata": {},
   "outputs": [],
   "source": [
    "#Question\n",
    "def multiplication_table(start, stop):\n",
    "\tfor x in ___:\n",
    "\t\tfor y in ___:\n",
    "\t\t\tprint(str(x*y), end=\" \")\n",
    "\t\tprint()\n",
    "\n",
    "multiplication_table(1, 3)\n",
    "# Should print the multiplication table shown above"
   ]
  },
  {
   "cell_type": "code",
   "execution_count": null,
   "metadata": {},
   "outputs": [],
   "source": [
    "#Answer\n",
    "def multiplication_table(start, stop):\n",
    "\tfor x in range(start, stop+1):\n",
    "\t\tfor y in range(start, stop+1):\n",
    "\t\t\tprint(str(x*y), end=\" \")\n",
    "\t\tprint()\n",
    "\n",
    "multiplication_table(1, 3)\n",
    "# Should print the multiplication table shown above"
   ]
  },
  {
   "cell_type": "markdown",
   "metadata": {},
   "source": [
    "The counter function counts down from start to stop when start is bigger than stop, and counts up from start to stop otherwise. Fill in the blanks to make this work correctly."
   ]
  },
  {
   "cell_type": "code",
   "execution_count": null,
   "metadata": {},
   "outputs": [],
   "source": [
    "#Question\n",
    "def counter(start, stop):\n",
    "\tx = start\n",
    "\tif ___:\n",
    "\t\treturn_string = \"Counting down: \"\n",
    "\t\twhile x >= stop:\n",
    "\t\t\treturn_string += str(x)\n",
    "\t\t\tif ___:\n",
    "\t\t\t\treturn_string += \",\"\n",
    "\t\t\t___\n",
    "\telse:\n",
    "\t\treturn_string = \"Counting up: \"\n",
    "\t\twhile x <= stop:\n",
    "\t\t\treturn_string += str(x)\n",
    "\t\t\tif ___:\n",
    "\t\t\t\treturn_string += \",\"\n",
    "\t\t\t___\n",
    "\treturn return_string\n",
    "\n",
    "print(counter(1, 10)) # Should be \"Counting up: 1,2,3,4,5,6,7,8,9,10\"\n",
    "print(counter(2, 1)) # Should be \"Counting down: 2,1\"\n",
    "print(counter(5, 5)) # Should be \"Counting up: 5\""
   ]
  },
  {
   "cell_type": "code",
   "execution_count": 18,
   "metadata": {},
   "outputs": [
    {
     "name": "stdout",
     "output_type": "stream",
     "text": [
      "Counting up: 1,2,3,4,5,6,7,8,9,10\n",
      "Counting down: 2,1\n",
      "Counting up: 5\n"
     ]
    }
   ],
   "source": [
    "#Answer\n",
    "def counter(start, stop):\n",
    "\tx = start\n",
    "\tif start > stop:\n",
    "\t\treturn_string = \"Counting down: \"\n",
    "\t\twhile x >= stop:\n",
    "\t\t\treturn_string += str(x)\n",
    "\t\t\tif x != stop:\n",
    "\t\t\t\treturn_string += \",\"\n",
    "\t\t\tx-=1\n",
    "\telse:\n",
    "\t\treturn_string = \"Counting up: \"\n",
    "\t\twhile x <= stop:\n",
    "\t\t\treturn_string += str(x)\n",
    "\t\t\tif stop != x:\n",
    "\t\t\t\treturn_string += \",\"\n",
    "\t\t\tx += 1\n",
    "\treturn return_string\n",
    "\n",
    "print(counter(1, 10)) # Should be \"Counting up: 1,2,3,4,5,6,7,8,9,10\"\n",
    "print(counter(2, 1)) # Should be \"Counting down: 2,1\"\n",
    "print(counter(5, 5)) # Should be \"Counting up: 5\""
   ]
  },
  {
   "cell_type": "markdown",
   "metadata": {},
   "source": [
    "The even_numbers function returns a space-separated string of all positive numbers that are divisible by 2, up to and including the maximum that's passed into the function. For example, even_numbers(6) returns “2 4 6”. Fill in the blank to make this work"
   ]
  },
  {
   "cell_type": "code",
   "execution_count": null,
   "metadata": {},
   "outputs": [],
   "source": [
    "#Question\n",
    "def even_numbers(maximum):\n",
    "\treturn_string = \"\"\n",
    "\tfor x in ___:\n",
    "\t\treturn_string += str(x) + \" \"\n",
    "\treturn return_string.strip()\n",
    "\n",
    "print(even_numbers(6))  # Should be 2 4 6\n",
    "print(even_numbers(10)) # Should be 2 4 6 8 10\n",
    "print(even_numbers(1))  # No numbers displayed\n",
    "print(even_numbers(3))  # Should be 2\n",
    "print(even_numbers(0))  # No numbers displayed"
   ]
  },
  {
   "cell_type": "code",
   "execution_count": null,
   "metadata": {},
   "outputs": [],
   "source": [
    "#Answer\n",
    "def even_numbers(maximum):\n",
    "\treturn_string = \"\"\n",
    "\tfor x in range(2, maximum+1, 2):\n",
    "\t\treturn_string += str(x) + \" \"\n",
    "\treturn return_string.strip()\n",
    "\n",
    "print(even_numbers(6))  # Should be 2 4 6\n",
    "print(even_numbers(10)) # Should be 2 4 6 8 10\n",
    "print(even_numbers(1))  # No numbers displayed\n",
    "print(even_numbers(3))  # Should be 2\n",
    "print(even_numbers(0))  # No numbers displayed"
   ]
  }
 ],
 "metadata": {
  "kernelspec": {
   "display_name": "Python 3",
   "language": "python",
   "name": "python3"
  },
  "language_info": {
   "codemirror_mode": {
    "name": "ipython",
    "version": 3
   },
   "file_extension": ".py",
   "mimetype": "text/x-python",
   "name": "python",
   "nbconvert_exporter": "python",
   "pygments_lexer": "ipython3",
   "version": "3.8.5"
  }
 },
 "nbformat": 4,
 "nbformat_minor": 4
}

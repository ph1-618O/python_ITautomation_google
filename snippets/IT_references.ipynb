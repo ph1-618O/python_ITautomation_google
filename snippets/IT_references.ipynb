{
 "cells": [
  {
   "cell_type": "markdown",
   "metadata": {},
   "source": [
    "Calculate the Golden Ratio\n",
    "$$\\frac{1 + \\sqrt 5}{2}$$"
   ]
  },
  {
   "cell_type": "code",
   "execution_count": 1,
   "metadata": {},
   "outputs": [
    {
     "name": "stdout",
     "output_type": "stream",
     "text": [
      "1.618033988749895\n"
     ]
    }
   ],
   "source": [
    "ratio = (1 + 5**(1/2))/2\n",
    "print(ratio)"
   ]
  },
  {
   "cell_type": "markdown",
   "metadata": {},
   "source": [
    "Calculate the possible passwords formed by user input() amounts "
   ]
  },
  {
   "cell_type": "code",
   "execution_count": 3,
   "metadata": {},
   "outputs": [],
   "source": [
    "#See Passwords.py\n",
    "#import passwords"
   ]
  },
  {
   "cell_type": "markdown",
   "metadata": {},
   "source": [
    "Most HDs are divided into sectors of 512 bytes ea. \n",
    "\n",
    "Using a disk size of 16 GB.\n",
    "\n",
    "1 GB is 1034<sup>3</sup> bytes, and 8bits/byte is 1034<sup>3</sup>X8\n",
    "    \n",
    "Calculate how many sectors are on the disk::"
   ]
  },
  {
   "cell_type": "code",
   "execution_count": 5,
   "metadata": {},
   "outputs": [
    {
     "name": "stdout",
     "output_type": "stream",
     "text": [
      "33554432\n"
     ]
    }
   ],
   "source": [
    "disk_size = 16*1024**3\n",
    "sector_size = 512\n",
    "sector_amount = disk_size/sector_size\n",
    "print(int(sector_amount))"
   ]
  },
  {
   "cell_type": "markdown",
   "metadata": {},
   "source": [
    "Is \"a dog\" smaller or larger than \"a mouse\"?\n",
    "\n",
    "Is 9999+8888 smaller or larger than 100*100?\n",
    "\n",
    "Choose the correct comparison operator::"
   ]
  },
  {
   "cell_type": "code",
   "execution_count": 8,
   "metadata": {},
   "outputs": [
    {
     "name": "stdout",
     "output_type": "stream",
     "text": [
      "A dog is bigger than a mouse: False\n",
      "9999+8888 is greater than 100*100: True\n"
     ]
    }
   ],
   "source": [
    "print(f'A dog is bigger than a mouse: {\"A dog\" > \"A mouse\"}')\n",
    "print(f'9999+8888 is greater than 100*100: {9999+8888 > 100*100}')"
   ]
  },
  {
   "cell_type": "markdown",
   "metadata": {},
   "source": [
    "If a filesystem has a block size of 4096 bytes, this means that a file comprised of only one byte will still use 4096 bytes of storage. A file made up of 4097 bytes will use 4096*2=8192 bytes of storage. Knowing this, can you fill in the gaps in the calculate_storage function below, which calculates the total number of bytes needed to store a file of a given size?"
   ]
  },
  {
   "cell_type": "code",
   "execution_count": 9,
   "metadata": {},
   "outputs": [
    {
     "name": "stdout",
     "output_type": "stream",
     "text": [
      "4096\n",
      "4096\n",
      "8192\n",
      "8192\n"
     ]
    }
   ],
   "source": [
    "def calculate_storage(filesize):\n",
    "    block_size = 4096\n",
    "    # Use floor division to calculate how many blocks are fully occupied\n",
    "    full_blocks = filesize // block_size\n",
    "    # Use the modulo operator to check whether there's any remainder\n",
    "    partial_block_remainder = filesize % block_size\n",
    "    # Depending on whether there's a remainder or not, return\n",
    "    # the total number of bytes required to allocate enough blocks\n",
    "    # to store your data.\n",
    "    if partial_block_remainder > 0:\n",
    "        return (full_blocks + 1) * block_size\n",
    "    return filesize\n",
    "\n",
    "print(calculate_storage(1))    # Should be 4096\n",
    "print(calculate_storage(4096)) # Should be 4096\n",
    "print(calculate_storage(4097)) # Should be 8192\n",
    "print(calculate_storage(6000)) # Should be 8192"
   ]
  },
  {
   "cell_type": "markdown",
   "metadata": {},
   "source": [
    "This function converts miles to kilometers (km).\n",
    "\n",
    "Complete the function to return the result of the conversion\n",
    "Call the function to convert the trip distance from miles to kilometers\n",
    "Fill in the blank to print the result of the conversion\n",
    "Calculate the round-trip in kilometers by doubling the result, and fill in the blank to print the result"
   ]
  },
  {
   "cell_type": "code",
   "execution_count": 10,
   "metadata": {},
   "outputs": [
    {
     "name": "stdout",
     "output_type": "stream",
     "text": [
      "The distance in kilometers is 88.0\n",
      "The round-trip in kilometers is 176.0\n"
     ]
    }
   ],
   "source": [
    "# 1) Complete the function to return the result of the conversion\n",
    "def convert_distance(miles):\n",
    "\tkm = miles * 1.6  # approximately 1.6 km in 1 mile\n",
    "\treturn km\n",
    "\n",
    "my_trip_miles = 55\n",
    "\n",
    "# 2) Convert my_trip_miles to kilometers by calling the function above\n",
    "my_trip_km = convert_distance(my_trip_miles)\n",
    "\n",
    "# 3) Fill in the blank to print the result of the conversion\n",
    "print(\"The distance in kilometers is \" + str(my_trip_km))\n",
    "\n",
    "# 4) Calculate the round-trip in kilometers by doubling the result,\n",
    "#    and fill in the blank to print the result\n",
    "print(\"The round-trip in kilometers is \" + str(2*my_trip_km))"
   ]
  },
  {
   "cell_type": "markdown",
   "metadata": {},
   "source": [
    "This function compares two numbers and returns them in increasing order.\n",
    "\n",
    "Fill in the blanks, so the print statement displays the result of the function call in order.\n",
    "Hint: if a function returns multiple values, don't forget to store these values in multiple variables"
   ]
  },
  {
   "cell_type": "code",
   "execution_count": 11,
   "metadata": {},
   "outputs": [
    {
     "name": "stdout",
     "output_type": "stream",
     "text": [
      "99 100\n"
     ]
    }
   ],
   "source": [
    "# This function compares two numbers and returns them\n",
    "# in increasing order.\n",
    "def order_numbers(number1, number2):\n",
    "\tif number2 > number1:\n",
    "\t\treturn number1, number2\n",
    "\telse:\n",
    "\t\treturn number2, number1\n",
    "\n",
    "# 1) Fill in the blanks so the print statement displays the result\n",
    "#    of the function call\n",
    "smaller, bigger = order_numbers(100, 99)\n",
    "print(smaller, bigger)"
   ]
  },
  {
   "cell_type": "code",
   "execution_count": null,
   "metadata": {},
   "outputs": [],
   "source": []
  }
 ],
 "metadata": {
  "kernelspec": {
   "display_name": "Python 3",
   "language": "python",
   "name": "python3"
  },
  "language_info": {
   "codemirror_mode": {
    "name": "ipython",
    "version": 3
   },
   "file_extension": ".py",
   "mimetype": "text/x-python",
   "name": "python",
   "nbconvert_exporter": "python",
   "pygments_lexer": "ipython3",
   "version": "3.8.5"
  }
 },
 "nbformat": 4,
 "nbformat_minor": 4
}

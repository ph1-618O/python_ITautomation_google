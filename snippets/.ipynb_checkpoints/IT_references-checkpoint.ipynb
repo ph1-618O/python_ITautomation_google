{
 "cells": [
  {
   "cell_type": "markdown",
   "metadata": {},
   "source": [
    "Calculate the Golden Ratio\n",
    "$$\\frac{1 + \\sqrt 5}{2}$$"
   ]
  },
  {
   "cell_type": "code",
   "execution_count": 2,
   "metadata": {},
   "outputs": [
    {
     "name": "stdout",
     "output_type": "stream",
     "text": [
      "1.618033988749895\n"
     ]
    }
   ],
   "source": [
    "ratio = (1 + 5**(1/2))/2\n",
    "print(ratio)"
   ]
  },
  {
   "cell_type": "markdown",
   "metadata": {},
   "source": [
    "Calculate the possible passwords formed by user input() amounts "
   ]
  },
  {
   "cell_type": "code",
   "execution_count": 7,
   "metadata": {},
   "outputs": [
    {
     "name": "stdout",
     "output_type": "stream",
     "text": [
      "Alphabetic Numbers, Symbols/Punctuation, only or a combinationalpha\n",
      "How many characters? Numbers only please6\n"
     ]
    },
    {
     "ename": "SyntaxError",
     "evalue": "'return' outside function (<ipython-input-7-2aada83de6bb>, line 22)",
     "output_type": "error",
     "traceback": [
      "\u001b[1;36m  File \u001b[1;32m\"<ipython-input-7-2aada83de6bb>\"\u001b[1;36m, line \u001b[1;32m22\u001b[0m\n\u001b[1;33m    return combo(a[2]*2, num)\u001b[0m\n\u001b[1;37m    ^\u001b[0m\n\u001b[1;31mSyntaxError\u001b[0m\u001b[1;31m:\u001b[0m 'return' outside function\n"
     ]
    }
   ],
   "source": [
    "s = ['symbols', 'symb', 33]\n",
    "a = ['alphabetic', 'alpha', 26]\n",
    "n = ['numbers', 'num', 10]\n",
    "c = ['upper', 'lower']\n",
    "\n",
    "\n",
    "def combos(pos_chars, num=5):\n",
    "    #default 5, bc avg word length in English is 4.7\n",
    "    pos_pass = pos_chars**int(num)\n",
    "    return print(f'There are {pos_pass} possible combinations for a {num} digit long password')\n",
    "\n",
    "\n",
    "# For Alphabetic passwords only\n",
    "frame = input('Alphabetic Numbers, Symbols/Punctuation, only or a combination')\n",
    "num = input('How many characters? Numbers only please')\n",
    "\n",
    "# For Alphabetic passwords only\n",
    "if frame.lower() ==  a[0] or frame.lower() == a[1]:\n",
    "    uL = input('Upper and Lower Included?')\n",
    "    \n",
    "    if c[0] and  c[1] in uL.lower():\n",
    "        return combo(a[2]*2, num)\n",
    "    \n",
    "    else:\n",
    "        combos(a, num)\n",
    "elif frame.lower() == n[0] or frame.lower() == n[1]:\n",
    "    return combos(a+n, num)\n",
    "elif frame.lower() == s[0] or frame.lower() == s[1] or frame.lower() == 'symbols//punctuation':\n",
    "    return combos(s[2], num)\n",
    "\n",
    "elif (frame.lower() == frame.lower() == s[0] or frame.lower() == s[1])\\\n",
    "and (frame.lower() == a[0] or frame.lower() == a[1]):\n",
    "    uL = input('Upper and Lower Included?')\n",
    "    if uL.lower() == c[0] or uL.lower() == c[1]:\n",
    "        return combos(a[2], num)\n",
    "    elif c[0] and  c[1] in uL.lower():\n",
    "        return combo(a[2]*2*s[2], num)\n",
    "    else:\n",
    "        return combos(a[2], num)\n",
    "    \n",
    "    \n",
    "# pos_chars = 26\n",
    "# pos_pass = pos_chars**6\n",
    "# print(pos_pass) uL_condition.lower() == 'upper' or uL_condition.lower() == 'lower':"
   ]
  },
  {
   "cell_type": "code",
   "execution_count": null,
   "metadata": {},
   "outputs": [],
   "source": []
  }
 ],
 "metadata": {
  "kernelspec": {
   "display_name": "Python 3",
   "language": "python",
   "name": "python3"
  },
  "language_info": {
   "codemirror_mode": {
    "name": "ipython",
    "version": 3
   },
   "file_extension": ".py",
   "mimetype": "text/x-python",
   "name": "python",
   "nbconvert_exporter": "python",
   "pygments_lexer": "ipython3",
   "version": "3.8.5"
  }
 },
 "nbformat": 4,
 "nbformat_minor": 4
}
